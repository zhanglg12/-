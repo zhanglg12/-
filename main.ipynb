{
 "cells": [
  {
   "cell_type": "code",
   "execution_count": 1,
   "metadata": {},
   "outputs": [],
   "source": [
    "import torch\n",
    "from torchvision import datasets, transforms\n",
    "from torch.utils.data import DataLoader\n",
    "import torch.nn as nn\n",
    "from utilities import *\n",
    "import time\n",
    "from torch.utils.tensorboard import SummaryWriter\n",
    "writer = SummaryWriter()\n",
    "data = FashionMNISTLoader(resize=(128,128),batch_size=32)\n",
    "\n",
    "# 定义 ViT 模型\n",
    "model = ViT(image_size=128, patch_size=16, num_classes=10, dim=256, depth=2, heads=8, mlp_dim=1024, channels=1, dropout=0.1)\n",
    "\n",
    "# 定义优化器函数和超参数\n",
    "trainer_fn = torch.optim.SGD\n",
    "hyperparams = {'lr': 0.1}\n",
    "\n",
    "# 创建 Trainer 实例并训练模型\n",
    "trainer = Trainer(trainer_fn, hyperparams, data, model, feature_dim=10, num_epochs=4, cuda=True)\n",
    "trainer.fit()\n",
    "trainer.writer.close()"
   ]
  }
 ],
 "metadata": {
  "kernelspec": {
   "display_name": "d2l",
   "language": "python",
   "name": "python3"
  },
  "language_info": {
   "codemirror_mode": {
    "name": "ipython",
    "version": 3
   },
   "file_extension": ".py",
   "mimetype": "text/x-python",
   "name": "python",
   "nbconvert_exporter": "python",
   "pygments_lexer": "ipython3",
   "version": "3.9.20"
  }
 },
 "nbformat": 4,
 "nbformat_minor": 2
}
